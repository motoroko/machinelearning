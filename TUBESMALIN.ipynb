{
  "nbformat": 4,
  "nbformat_minor": 0,
  "metadata": {
    "colab": {
      "name": "TUBESMALIN.ipynb",
      "provenance": [],
      "toc_visible": true,
      "authorship_tag": "ABX9TyMGXlZHhiJ61PgjUOmK72cO",
      "include_colab_link": true
    },
    "kernelspec": {
      "name": "python3",
      "display_name": "Python 3"
    }
  },
  "cells": [
    {
      "cell_type": "markdown",
      "metadata": {
        "id": "view-in-github",
        "colab_type": "text"
      },
      "source": [
        "<a href=\"https://colab.research.google.com/github/motoroko/machinelearning/blob/master/TUBESMALIN.ipynb\" target=\"_parent\"><img src=\"https://colab.research.google.com/assets/colab-badge.svg\" alt=\"Open In Colab\"/></a>"
      ]
    },
    {
      "cell_type": "markdown",
      "metadata": {
        "id": "_CLu2BhK9NCN",
        "colab_type": "text"
      },
      "source": [
        "# Clustering\n",
        "\n"
      ]
    },
    {
      "cell_type": "markdown",
      "metadata": {
        "id": "oZYXPMEbTPYY",
        "colab_type": "text"
      },
      "source": [
        " Import Library"
      ]
    },
    {
      "cell_type": "code",
      "metadata": {
        "id": "z7dThSxGf91E",
        "colab_type": "code",
        "colab": {}
      },
      "source": [
        "import numpy as np \n",
        "import pandas as pd\n",
        "import io\n",
        "import random\n",
        "import math\n",
        "from google.colab import files\n",
        "import matplotlib.pyplot as plt\n",
        "from scipy.spatial import distance\n",
        "from collections import Counter"
      ],
      "execution_count": 0,
      "outputs": []
    },
    {
      "cell_type": "markdown",
      "metadata": {
        "id": "Zv31sbL3TVU_",
        "colab_type": "text"
      },
      "source": [
        " Import Dataset"
      ]
    },
    {
      "cell_type": "code",
      "metadata": {
        "id": "DPpT3m9ZgR28",
        "colab_type": "code",
        "outputId": "1eaf342a-c36f-4526-a0d3-267b2c4ab25d",
        "colab": {
          "resources": {
            "http://localhost:8080/nbextensions/google.colab/files.js": {
              "data": "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",
              "ok": true,
              "headers": [
                [
                  "content-type",
                  "application/javascript"
                ]
              ],
              "status": 200,
              "status_text": ""
            }
          },
          "base_uri": "https://localhost:8080/",
          "height": 74
        }
      },
      "source": [
        "uploaded = files.upload()"
      ],
      "execution_count": 2,
      "outputs": [
        {
          "output_type": "display_data",
          "data": {
            "text/html": [
              "\n",
              "     <input type=\"file\" id=\"files-44a17a78-3c8a-4e66-9879-7c7bd5ceb262\" name=\"files[]\" multiple disabled />\n",
              "     <output id=\"result-44a17a78-3c8a-4e66-9879-7c7bd5ceb262\">\n",
              "      Upload widget is only available when the cell has been executed in the\n",
              "      current browser session. Please rerun this cell to enable.\n",
              "      </output>\n",
              "      <script src=\"/nbextensions/google.colab/files.js\"></script> "
            ],
            "text/plain": [
              "<IPython.core.display.HTML object>"
            ]
          },
          "metadata": {
            "tags": []
          }
        },
        {
          "output_type": "stream",
          "text": [
            "Saving air_bnb.csv to air_bnb.csv\n"
          ],
          "name": "stdout"
        }
      ]
    },
    {
      "cell_type": "markdown",
      "metadata": {
        "id": "zh_eNx5_TaNM",
        "colab_type": "text"
      },
      "source": [
        " Dataset Preprocessing"
      ]
    },
    {
      "cell_type": "code",
      "metadata": {
        "id": "q6bjQFZlgTeD",
        "colab_type": "code",
        "outputId": "412e216f-9e79-4164-f312-fb8136b57d67",
        "colab": {
          "base_uri": "https://localhost:8080/",
          "height": 34
        }
      },
      "source": [
        "df = pd.read_csv(io.BytesIO(uploaded['air_bnb.csv']))\n",
        "df.shape"
      ],
      "execution_count": 3,
      "outputs": [
        {
          "output_type": "execute_result",
          "data": {
            "text/plain": [
              "(22552, 16)"
            ]
          },
          "metadata": {
            "tags": []
          },
          "execution_count": 3
        }
      ]
    },
    {
      "cell_type": "markdown",
      "metadata": {
        "id": "EdtCbnmrTu_p",
        "colab_type": "text"
      },
      "source": [
        "Missing Value Problem"
      ]
    },
    {
      "cell_type": "code",
      "metadata": {
        "id": "ptQClarCaWwe",
        "colab_type": "code",
        "outputId": "ab79d895-3cba-44e1-831a-8e960e5221d7",
        "colab": {
          "base_uri": "https://localhost:8080/",
          "height": 52
        }
      },
      "source": [
        "# Checking the size of the row with complete value\n",
        "df_training = df.dropna()\n",
        "print(df_training.shape)\n",
        "print( np.round((df_training.shape[0]/df.shape[0]) * 100,2), '%') "
      ],
      "execution_count": 4,
      "outputs": [
        {
          "output_type": "stream",
          "text": [
            "(18587, 16)\n",
            "82.42 %\n"
          ],
          "name": "stdout"
        }
      ]
    },
    {
      "cell_type": "code",
      "metadata": {
        "id": "xNxNezRNT2dP",
        "colab_type": "code",
        "outputId": "2c57cd35-5d30-40c1-b1cf-1d78f5c9a3ce",
        "colab": {
          "base_uri": "https://localhost:8080/",
          "height": 52
        }
      },
      "source": [
        "# Checking the size of the row with missing value\n",
        "df_qual = df[df.isnull().any(axis='columns')]\n",
        "print(df_qual.shape[0])\n",
        "print( np.round((df_qual.shape[0]/df.shape[0]) * 100,2), '%') "
      ],
      "execution_count": 5,
      "outputs": [
        {
          "output_type": "stream",
          "text": [
            "3965\n",
            "17.58 %\n"
          ],
          "name": "stdout"
        }
      ]
    },
    {
      "cell_type": "code",
      "metadata": {
        "id": "l8C2tkMSUwL0",
        "colab_type": "code",
        "outputId": "14327d0a-754d-40ce-9ea5-c538388897ec",
        "colab": {
          "base_uri": "https://localhost:8080/",
          "height": 401
        }
      },
      "source": [
        "df_training.head(5)"
      ],
      "execution_count": 6,
      "outputs": [
        {
          "output_type": "execute_result",
          "data": {
            "text/html": [
              "<div>\n",
              "<style scoped>\n",
              "    .dataframe tbody tr th:only-of-type {\n",
              "        vertical-align: middle;\n",
              "    }\n",
              "\n",
              "    .dataframe tbody tr th {\n",
              "        vertical-align: top;\n",
              "    }\n",
              "\n",
              "    .dataframe thead th {\n",
              "        text-align: right;\n",
              "    }\n",
              "</style>\n",
              "<table border=\"1\" class=\"dataframe\">\n",
              "  <thead>\n",
              "    <tr style=\"text-align: right;\">\n",
              "      <th></th>\n",
              "      <th>id</th>\n",
              "      <th>name</th>\n",
              "      <th>host_id</th>\n",
              "      <th>host_name</th>\n",
              "      <th>neighbourhood_group</th>\n",
              "      <th>neighbourhood</th>\n",
              "      <th>latitude</th>\n",
              "      <th>longitude</th>\n",
              "      <th>room_type</th>\n",
              "      <th>price</th>\n",
              "      <th>minimum_nights</th>\n",
              "      <th>number_of_reviews</th>\n",
              "      <th>last_review</th>\n",
              "      <th>reviews_per_month</th>\n",
              "      <th>calculated_host_listings_count</th>\n",
              "      <th>availability_365</th>\n",
              "    </tr>\n",
              "  </thead>\n",
              "  <tbody>\n",
              "    <tr>\n",
              "      <th>0</th>\n",
              "      <td>2015</td>\n",
              "      <td>Berlin-Mitte Value! Quiet courtyard/very central</td>\n",
              "      <td>2217</td>\n",
              "      <td>Ian</td>\n",
              "      <td>Mitte</td>\n",
              "      <td>Brunnenstr. Süd</td>\n",
              "      <td>52.534537</td>\n",
              "      <td>13.402557</td>\n",
              "      <td>Entire home/apt</td>\n",
              "      <td>60</td>\n",
              "      <td>4</td>\n",
              "      <td>118</td>\n",
              "      <td>2018-10-28</td>\n",
              "      <td>3.76</td>\n",
              "      <td>4</td>\n",
              "      <td>141</td>\n",
              "    </tr>\n",
              "    <tr>\n",
              "      <th>1</th>\n",
              "      <td>2695</td>\n",
              "      <td>Prenzlauer Berg close to Mauerpark</td>\n",
              "      <td>2986</td>\n",
              "      <td>Michael</td>\n",
              "      <td>Pankow</td>\n",
              "      <td>Prenzlauer Berg Nordwest</td>\n",
              "      <td>52.548513</td>\n",
              "      <td>13.404553</td>\n",
              "      <td>Private room</td>\n",
              "      <td>17</td>\n",
              "      <td>2</td>\n",
              "      <td>6</td>\n",
              "      <td>2018-10-01</td>\n",
              "      <td>1.42</td>\n",
              "      <td>1</td>\n",
              "      <td>0</td>\n",
              "    </tr>\n",
              "    <tr>\n",
              "      <th>2</th>\n",
              "      <td>3176</td>\n",
              "      <td>Fabulous Flat in great Location</td>\n",
              "      <td>3718</td>\n",
              "      <td>Britta</td>\n",
              "      <td>Pankow</td>\n",
              "      <td>Prenzlauer Berg Südwest</td>\n",
              "      <td>52.534996</td>\n",
              "      <td>13.417579</td>\n",
              "      <td>Entire home/apt</td>\n",
              "      <td>90</td>\n",
              "      <td>62</td>\n",
              "      <td>143</td>\n",
              "      <td>2017-03-20</td>\n",
              "      <td>1.25</td>\n",
              "      <td>1</td>\n",
              "      <td>220</td>\n",
              "    </tr>\n",
              "    <tr>\n",
              "      <th>3</th>\n",
              "      <td>3309</td>\n",
              "      <td>BerlinSpot Schöneberg near KaDeWe</td>\n",
              "      <td>4108</td>\n",
              "      <td>Jana</td>\n",
              "      <td>Tempelhof - Schöneberg</td>\n",
              "      <td>Schöneberg-Nord</td>\n",
              "      <td>52.498855</td>\n",
              "      <td>13.349065</td>\n",
              "      <td>Private room</td>\n",
              "      <td>26</td>\n",
              "      <td>5</td>\n",
              "      <td>25</td>\n",
              "      <td>2018-08-16</td>\n",
              "      <td>0.39</td>\n",
              "      <td>1</td>\n",
              "      <td>297</td>\n",
              "    </tr>\n",
              "    <tr>\n",
              "      <th>4</th>\n",
              "      <td>7071</td>\n",
              "      <td>BrightRoom with sunny greenview!</td>\n",
              "      <td>17391</td>\n",
              "      <td>Bright</td>\n",
              "      <td>Pankow</td>\n",
              "      <td>Helmholtzplatz</td>\n",
              "      <td>52.543157</td>\n",
              "      <td>13.415091</td>\n",
              "      <td>Private room</td>\n",
              "      <td>42</td>\n",
              "      <td>2</td>\n",
              "      <td>197</td>\n",
              "      <td>2018-11-04</td>\n",
              "      <td>1.75</td>\n",
              "      <td>1</td>\n",
              "      <td>26</td>\n",
              "    </tr>\n",
              "  </tbody>\n",
              "</table>\n",
              "</div>"
            ],
            "text/plain": [
              "     id  ... availability_365\n",
              "0  2015  ...              141\n",
              "1  2695  ...                0\n",
              "2  3176  ...              220\n",
              "3  3309  ...              297\n",
              "4  7071  ...               26\n",
              "\n",
              "[5 rows x 16 columns]"
            ]
          },
          "metadata": {
            "tags": []
          },
          "execution_count": 6
        }
      ]
    },
    {
      "cell_type": "code",
      "metadata": {
        "id": "HIzPI0PB7rv8",
        "colab_type": "code",
        "outputId": "518d143e-6b92-4e01-e261-99c8601493b6",
        "colab": {
          "base_uri": "https://localhost:8080/",
          "height": 287
        }
      },
      "source": [
        "df_training.describe()"
      ],
      "execution_count": 7,
      "outputs": [
        {
          "output_type": "execute_result",
          "data": {
            "text/html": [
              "<div>\n",
              "<style scoped>\n",
              "    .dataframe tbody tr th:only-of-type {\n",
              "        vertical-align: middle;\n",
              "    }\n",
              "\n",
              "    .dataframe tbody tr th {\n",
              "        vertical-align: top;\n",
              "    }\n",
              "\n",
              "    .dataframe thead th {\n",
              "        text-align: right;\n",
              "    }\n",
              "</style>\n",
              "<table border=\"1\" class=\"dataframe\">\n",
              "  <thead>\n",
              "    <tr style=\"text-align: right;\">\n",
              "      <th></th>\n",
              "      <th>id</th>\n",
              "      <th>host_id</th>\n",
              "      <th>latitude</th>\n",
              "      <th>longitude</th>\n",
              "      <th>price</th>\n",
              "      <th>minimum_nights</th>\n",
              "      <th>number_of_reviews</th>\n",
              "      <th>reviews_per_month</th>\n",
              "      <th>calculated_host_listings_count</th>\n",
              "      <th>availability_365</th>\n",
              "    </tr>\n",
              "  </thead>\n",
              "  <tbody>\n",
              "    <tr>\n",
              "      <th>count</th>\n",
              "      <td>1.858700e+04</td>\n",
              "      <td>1.858700e+04</td>\n",
              "      <td>18587.000000</td>\n",
              "      <td>18587.000000</td>\n",
              "      <td>18587.000000</td>\n",
              "      <td>18587.000000</td>\n",
              "      <td>18587.000000</td>\n",
              "      <td>18587.000000</td>\n",
              "      <td>18587.000000</td>\n",
              "      <td>18587.000000</td>\n",
              "    </tr>\n",
              "    <tr>\n",
              "      <th>mean</th>\n",
              "      <td>1.529028e+07</td>\n",
              "      <td>5.192363e+07</td>\n",
              "      <td>52.509923</td>\n",
              "      <td>13.406351</td>\n",
              "      <td>61.990961</td>\n",
              "      <td>6.536127</td>\n",
              "      <td>21.617690</td>\n",
              "      <td>1.138112</td>\n",
              "      <td>1.933502</td>\n",
              "      <td>84.334320</td>\n",
              "    </tr>\n",
              "    <tr>\n",
              "      <th>std</th>\n",
              "      <td>8.456565e+06</td>\n",
              "      <td>5.660290e+07</td>\n",
              "      <td>0.030543</td>\n",
              "      <td>0.057249</td>\n",
              "      <td>145.874539</td>\n",
              "      <td>43.156393</td>\n",
              "      <td>39.464083</td>\n",
              "      <td>1.508100</td>\n",
              "      <td>3.766036</td>\n",
              "      <td>120.513906</td>\n",
              "    </tr>\n",
              "    <tr>\n",
              "      <th>min</th>\n",
              "      <td>2.015000e+03</td>\n",
              "      <td>2.217000e+03</td>\n",
              "      <td>52.345803</td>\n",
              "      <td>13.103557</td>\n",
              "      <td>0.000000</td>\n",
              "      <td>1.000000</td>\n",
              "      <td>1.000000</td>\n",
              "      <td>0.010000</td>\n",
              "      <td>1.000000</td>\n",
              "      <td>0.000000</td>\n",
              "    </tr>\n",
              "    <tr>\n",
              "      <th>25%</th>\n",
              "      <td>7.797145e+06</td>\n",
              "      <td>8.579471e+06</td>\n",
              "      <td>52.489195</td>\n",
              "      <td>13.376423</td>\n",
              "      <td>30.000000</td>\n",
              "      <td>2.000000</td>\n",
              "      <td>3.000000</td>\n",
              "      <td>0.180000</td>\n",
              "      <td>1.000000</td>\n",
              "      <td>0.000000</td>\n",
              "    </tr>\n",
              "    <tr>\n",
              "      <th>50%</th>\n",
              "      <td>1.643876e+07</td>\n",
              "      <td>2.892871e+07</td>\n",
              "      <td>52.509208</td>\n",
              "      <td>13.416857</td>\n",
              "      <td>46.000000</td>\n",
              "      <td>2.000000</td>\n",
              "      <td>7.000000</td>\n",
              "      <td>0.540000</td>\n",
              "      <td>1.000000</td>\n",
              "      <td>8.000000</td>\n",
              "    </tr>\n",
              "    <tr>\n",
              "      <th>75%</th>\n",
              "      <td>2.218477e+07</td>\n",
              "      <td>7.724873e+07</td>\n",
              "      <td>52.532653</td>\n",
              "      <td>13.439131</td>\n",
              "      <td>70.000000</td>\n",
              "      <td>4.000000</td>\n",
              "      <td>21.000000</td>\n",
              "      <td>1.510000</td>\n",
              "      <td>1.000000</td>\n",
              "      <td>145.000000</td>\n",
              "    </tr>\n",
              "    <tr>\n",
              "      <th>max</th>\n",
              "      <td>2.984956e+07</td>\n",
              "      <td>2.242958e+08</td>\n",
              "      <td>52.641499</td>\n",
              "      <td>13.757642</td>\n",
              "      <td>8600.000000</td>\n",
              "      <td>5000.000000</td>\n",
              "      <td>498.000000</td>\n",
              "      <td>36.670000</td>\n",
              "      <td>45.000000</td>\n",
              "      <td>365.000000</td>\n",
              "    </tr>\n",
              "  </tbody>\n",
              "</table>\n",
              "</div>"
            ],
            "text/plain": [
              "                 id  ...  availability_365\n",
              "count  1.858700e+04  ...      18587.000000\n",
              "mean   1.529028e+07  ...         84.334320\n",
              "std    8.456565e+06  ...        120.513906\n",
              "min    2.015000e+03  ...          0.000000\n",
              "25%    7.797145e+06  ...          0.000000\n",
              "50%    1.643876e+07  ...          8.000000\n",
              "75%    2.218477e+07  ...        145.000000\n",
              "max    2.984956e+07  ...        365.000000\n",
              "\n",
              "[8 rows x 10 columns]"
            ]
          },
          "metadata": {
            "tags": []
          },
          "execution_count": 7
        }
      ]
    },
    {
      "cell_type": "code",
      "metadata": {
        "id": "WSjeOqd3YTD7",
        "colab_type": "code",
        "outputId": "622c5927-879b-4436-fcbb-b8d6bbbed7e5",
        "colab": {
          "base_uri": "https://localhost:8080/",
          "height": 406
        }
      },
      "source": [
        "dfclust = pd.DataFrame(data=[])\n",
        "dfclust['neighbourhood'] = df_training['neighbourhood'] \n",
        "dfclust['number_of_reviews'] = df_training['number_of_reviews']\n",
        "#dfclust['class'] = np.zeros((dfclust.shape[0],1)).astype('int64')\n",
        "\n",
        "dfclust"
      ],
      "execution_count": 8,
      "outputs": [
        {
          "output_type": "execute_result",
          "data": {
            "text/html": [
              "<div>\n",
              "<style scoped>\n",
              "    .dataframe tbody tr th:only-of-type {\n",
              "        vertical-align: middle;\n",
              "    }\n",
              "\n",
              "    .dataframe tbody tr th {\n",
              "        vertical-align: top;\n",
              "    }\n",
              "\n",
              "    .dataframe thead th {\n",
              "        text-align: right;\n",
              "    }\n",
              "</style>\n",
              "<table border=\"1\" class=\"dataframe\">\n",
              "  <thead>\n",
              "    <tr style=\"text-align: right;\">\n",
              "      <th></th>\n",
              "      <th>neighbourhood</th>\n",
              "      <th>number_of_reviews</th>\n",
              "    </tr>\n",
              "  </thead>\n",
              "  <tbody>\n",
              "    <tr>\n",
              "      <th>0</th>\n",
              "      <td>Brunnenstr. Süd</td>\n",
              "      <td>118</td>\n",
              "    </tr>\n",
              "    <tr>\n",
              "      <th>1</th>\n",
              "      <td>Prenzlauer Berg Nordwest</td>\n",
              "      <td>6</td>\n",
              "    </tr>\n",
              "    <tr>\n",
              "      <th>2</th>\n",
              "      <td>Prenzlauer Berg Südwest</td>\n",
              "      <td>143</td>\n",
              "    </tr>\n",
              "    <tr>\n",
              "      <th>3</th>\n",
              "      <td>Schöneberg-Nord</td>\n",
              "      <td>25</td>\n",
              "    </tr>\n",
              "    <tr>\n",
              "      <th>4</th>\n",
              "      <td>Helmholtzplatz</td>\n",
              "      <td>197</td>\n",
              "    </tr>\n",
              "    <tr>\n",
              "      <th>...</th>\n",
              "      <td>...</td>\n",
              "      <td>...</td>\n",
              "    </tr>\n",
              "    <tr>\n",
              "      <th>22449</th>\n",
              "      <td>Neu Lichtenberg</td>\n",
              "      <td>1</td>\n",
              "    </tr>\n",
              "    <tr>\n",
              "      <th>22463</th>\n",
              "      <td>Oberschöneweide</td>\n",
              "      <td>5</td>\n",
              "    </tr>\n",
              "    <tr>\n",
              "      <th>22475</th>\n",
              "      <td>Frankfurter Allee Süd FK</td>\n",
              "      <td>1</td>\n",
              "    </tr>\n",
              "    <tr>\n",
              "      <th>22508</th>\n",
              "      <td>Prenzlauer Berg Nordwest</td>\n",
              "      <td>1</td>\n",
              "    </tr>\n",
              "    <tr>\n",
              "      <th>22536</th>\n",
              "      <td>Prenzlauer Berg Südwest</td>\n",
              "      <td>2</td>\n",
              "    </tr>\n",
              "  </tbody>\n",
              "</table>\n",
              "<p>18587 rows × 2 columns</p>\n",
              "</div>"
            ],
            "text/plain": [
              "                  neighbourhood  number_of_reviews\n",
              "0               Brunnenstr. Süd                118\n",
              "1      Prenzlauer Berg Nordwest                  6\n",
              "2       Prenzlauer Berg Südwest                143\n",
              "3               Schöneberg-Nord                 25\n",
              "4                Helmholtzplatz                197\n",
              "...                         ...                ...\n",
              "22449           Neu Lichtenberg                  1\n",
              "22463           Oberschöneweide                  5\n",
              "22475  Frankfurter Allee Süd FK                  1\n",
              "22508  Prenzlauer Berg Nordwest                  1\n",
              "22536   Prenzlauer Berg Südwest                  2\n",
              "\n",
              "[18587 rows x 2 columns]"
            ]
          },
          "metadata": {
            "tags": []
          },
          "execution_count": 8
        }
      ]
    },
    {
      "cell_type": "markdown",
      "metadata": {
        "id": "mkWADTCSB85S",
        "colab_type": "text"
      },
      "source": [
        "Categorical Encoding"
      ]
    },
    {
      "cell_type": "code",
      "metadata": {
        "id": "Iqk-wZNAgoB7",
        "colab_type": "code",
        "outputId": "0552a253-5def-408a-ebb9-0f3140fe2f72",
        "colab": {
          "base_uri": "https://localhost:8080/",
          "height": 495
        }
      },
      "source": [
        "def delduplicate(a):\n",
        "  b = a\n",
        "  return list(Counter(b))\n",
        "\n",
        "key = []\n",
        "\n",
        "for i in dfclust.columns:\n",
        "  key.append(delduplicate(dfclust[i]))\n",
        "\n",
        "for i in range(len(dfclust.columns)):\n",
        "  if dfclust[dfclust.columns[i]].dtypes != 'int64' and dfclust[dfclust.columns[i]].dtypes != 'float64':\n",
        "    for j in range(len(dfclust)):\n",
        "      k = key[i]\n",
        "      for l in range(len(k)):\n",
        "        if dfclust[dfclust.columns[i]].iloc[j] == k[l]:\n",
        "          dfclust[dfclust.columns[i]].iloc[j] = l+1\n",
        "          break\n",
        "\n",
        "dfclust"
      ],
      "execution_count": 9,
      "outputs": [
        {
          "output_type": "stream",
          "text": [
            "/usr/local/lib/python3.6/dist-packages/pandas/core/indexing.py:671: SettingWithCopyWarning: \n",
            "A value is trying to be set on a copy of a slice from a DataFrame\n",
            "\n",
            "See the caveats in the documentation: https://pandas.pydata.org/pandas-docs/stable/user_guide/indexing.html#returning-a-view-versus-a-copy\n",
            "  self._setitem_with_indexer(indexer, value)\n"
          ],
          "name": "stderr"
        },
        {
          "output_type": "execute_result",
          "data": {
            "text/html": [
              "<div>\n",
              "<style scoped>\n",
              "    .dataframe tbody tr th:only-of-type {\n",
              "        vertical-align: middle;\n",
              "    }\n",
              "\n",
              "    .dataframe tbody tr th {\n",
              "        vertical-align: top;\n",
              "    }\n",
              "\n",
              "    .dataframe thead th {\n",
              "        text-align: right;\n",
              "    }\n",
              "</style>\n",
              "<table border=\"1\" class=\"dataframe\">\n",
              "  <thead>\n",
              "    <tr style=\"text-align: right;\">\n",
              "      <th></th>\n",
              "      <th>neighbourhood</th>\n",
              "      <th>number_of_reviews</th>\n",
              "    </tr>\n",
              "  </thead>\n",
              "  <tbody>\n",
              "    <tr>\n",
              "      <th>0</th>\n",
              "      <td>1</td>\n",
              "      <td>118</td>\n",
              "    </tr>\n",
              "    <tr>\n",
              "      <th>1</th>\n",
              "      <td>2</td>\n",
              "      <td>6</td>\n",
              "    </tr>\n",
              "    <tr>\n",
              "      <th>2</th>\n",
              "      <td>3</td>\n",
              "      <td>143</td>\n",
              "    </tr>\n",
              "    <tr>\n",
              "      <th>3</th>\n",
              "      <td>4</td>\n",
              "      <td>25</td>\n",
              "    </tr>\n",
              "    <tr>\n",
              "      <th>4</th>\n",
              "      <td>5</td>\n",
              "      <td>197</td>\n",
              "    </tr>\n",
              "    <tr>\n",
              "      <th>...</th>\n",
              "      <td>...</td>\n",
              "      <td>...</td>\n",
              "    </tr>\n",
              "    <tr>\n",
              "      <th>22449</th>\n",
              "      <td>51</td>\n",
              "      <td>1</td>\n",
              "    </tr>\n",
              "    <tr>\n",
              "      <th>22463</th>\n",
              "      <td>117</td>\n",
              "      <td>5</td>\n",
              "    </tr>\n",
              "    <tr>\n",
              "      <th>22475</th>\n",
              "      <td>11</td>\n",
              "      <td>1</td>\n",
              "    </tr>\n",
              "    <tr>\n",
              "      <th>22508</th>\n",
              "      <td>2</td>\n",
              "      <td>1</td>\n",
              "    </tr>\n",
              "    <tr>\n",
              "      <th>22536</th>\n",
              "      <td>3</td>\n",
              "      <td>2</td>\n",
              "    </tr>\n",
              "  </tbody>\n",
              "</table>\n",
              "<p>18587 rows × 2 columns</p>\n",
              "</div>"
            ],
            "text/plain": [
              "      neighbourhood  number_of_reviews\n",
              "0                 1                118\n",
              "1                 2                  6\n",
              "2                 3                143\n",
              "3                 4                 25\n",
              "4                 5                197\n",
              "...             ...                ...\n",
              "22449            51                  1\n",
              "22463           117                  5\n",
              "22475            11                  1\n",
              "22508             2                  1\n",
              "22536             3                  2\n",
              "\n",
              "[18587 rows x 2 columns]"
            ]
          },
          "metadata": {
            "tags": []
          },
          "execution_count": 9
        }
      ]
    },
    {
      "cell_type": "code",
      "metadata": {
        "id": "hl6KuiIfudTc",
        "colab_type": "code",
        "colab": {
          "base_uri": "https://localhost:8080/",
          "height": 746
        },
        "outputId": "3eb09d11-e7e2-4924-fb85-c182900307e7"
      },
      "source": [
        "plt.figure(dpi=200)\n",
        "plt.scatter(dfclust['neighbourhood'],dfclust['number_of_reviews'],s=5)\n",
        "plt.xlabel('neighbourhood')\n",
        "plt.ylabel('number_of_reviews')\n",
        "plt.show()"
      ],
      "execution_count": 10,
      "outputs": [
        {
          "output_type": "display_data",
          "data": {
            "image/png": "[encoded data removed]",
            "text/plain": [
              "<Figure size 1200x800 with 1 Axes>"
            ]
          },
          "metadata": {
            "tags": [],
            "needs_background": "light"
          }
        }
      ]
    },
    {
      "cell_type": "markdown",
      "metadata": {
        "id": "VmWbBMirc3gF",
        "colab_type": "text"
      },
      "source": [
        "MinMax Scalling"
      ]
    },
    {
      "cell_type": "code",
      "metadata": {
        "id": "TTxXDIoGB6M1",
        "colab_type": "code",
        "colab": {
          "base_uri": "https://localhost:8080/",
          "height": 495
        },
        "outputId": "b457ac1a-ac06-452b-bea9-5890c04d6f23"
      },
      "source": [
        "for i in dfclust.columns:\n",
        "  for j in range(len(dfclust[i])):\n",
        "    dfclust[i].iloc[j] = ( dfclust[i].iloc[j] - min(dfclust[i]) ) / ( max(dfclust[i]) - min(dfclust[i]) )\n",
        "\n",
        "dfclust"
      ],
      "execution_count": 11,
      "outputs": [
        {
          "output_type": "stream",
          "text": [
            "/usr/local/lib/python3.6/dist-packages/pandas/core/indexing.py:671: SettingWithCopyWarning: \n",
            "A value is trying to be set on a copy of a slice from a DataFrame\n",
            "\n",
            "See the caveats in the documentation: https://pandas.pydata.org/pandas-docs/stable/user_guide/indexing.html#returning-a-view-versus-a-copy\n",
            "  self._setitem_with_indexer(indexer, value)\n"
          ],
          "name": "stderr"
        },
        {
          "output_type": "execute_result",
          "data": {
            "text/html": [
              "<div>\n",
              "<style scoped>\n",
              "    .dataframe tbody tr th:only-of-type {\n",
              "        vertical-align: middle;\n",
              "    }\n",
              "\n",
              "    .dataframe tbody tr th {\n",
              "        vertical-align: top;\n",
              "    }\n",
              "\n",
              "    .dataframe thead th {\n",
              "        text-align: right;\n",
              "    }\n",
              "</style>\n",
              "<table border=\"1\" class=\"dataframe\">\n",
              "  <thead>\n",
              "    <tr style=\"text-align: right;\">\n",
              "      <th></th>\n",
              "      <th>neighbourhood</th>\n",
              "      <th>number_of_reviews</th>\n",
              "    </tr>\n",
              "  </thead>\n",
              "  <tbody>\n",
              "    <tr>\n",
              "      <th>0</th>\n",
              "      <td>0</td>\n",
              "      <td>0.235412</td>\n",
              "    </tr>\n",
              "    <tr>\n",
              "      <th>1</th>\n",
              "      <td>0.0147059</td>\n",
              "      <td>0.011581</td>\n",
              "    </tr>\n",
              "    <tr>\n",
              "      <th>2</th>\n",
              "      <td>0.0220588</td>\n",
              "      <td>0.287132</td>\n",
              "    </tr>\n",
              "    <tr>\n",
              "      <th>3</th>\n",
              "      <td>0.0294118</td>\n",
              "      <td>0.050179</td>\n",
              "    </tr>\n",
              "    <tr>\n",
              "      <th>4</th>\n",
              "      <td>0.0367647</td>\n",
              "      <td>0.395568</td>\n",
              "    </tr>\n",
              "    <tr>\n",
              "      <th>...</th>\n",
              "      <td>...</td>\n",
              "      <td>...</td>\n",
              "    </tr>\n",
              "    <tr>\n",
              "      <th>22449</th>\n",
              "      <td>0.435897</td>\n",
              "      <td>0.199682</td>\n",
              "    </tr>\n",
              "    <tr>\n",
              "      <th>22463</th>\n",
              "      <td>1</td>\n",
              "      <td>1.000000</td>\n",
              "    </tr>\n",
              "    <tr>\n",
              "      <th>22475</th>\n",
              "      <td>1</td>\n",
              "      <td>0.499503</td>\n",
              "    </tr>\n",
              "    <tr>\n",
              "      <th>22508</th>\n",
              "      <td>0.666667</td>\n",
              "      <td>0.499503</td>\n",
              "    </tr>\n",
              "    <tr>\n",
              "      <th>22536</th>\n",
              "      <td>1</td>\n",
              "      <td>1.000000</td>\n",
              "    </tr>\n",
              "  </tbody>\n",
              "</table>\n",
              "<p>18587 rows × 2 columns</p>\n",
              "</div>"
            ],
            "text/plain": [
              "      neighbourhood  number_of_reviews\n",
              "0                 0           0.235412\n",
              "1         0.0147059           0.011581\n",
              "2         0.0220588           0.287132\n",
              "3         0.0294118           0.050179\n",
              "4         0.0367647           0.395568\n",
              "...             ...                ...\n",
              "22449      0.435897           0.199682\n",
              "22463             1           1.000000\n",
              "22475             1           0.499503\n",
              "22508      0.666667           0.499503\n",
              "22536             1           1.000000\n",
              "\n",
              "[18587 rows x 2 columns]"
            ]
          },
          "metadata": {
            "tags": []
          },
          "execution_count": 11
        }
      ]
    },
    {
      "cell_type": "code",
      "metadata": {
        "id": "9OpBY1yShke6",
        "colab_type": "code",
        "outputId": "11e2e118-5607-4ac0-93cd-641ced6b1523",
        "colab": {
          "base_uri": "https://localhost:8080/",
          "height": 746
        }
      },
      "source": [
        "plt.figure(dpi=200)\n",
        "plt.scatter(dfclust['neighbourhood'],dfclust['number_of_reviews'],s=5)\n",
        "plt.xlabel('neighbourhood')\n",
        "plt.ylabel('number_of_reviews')\n",
        "plt.show()"
      ],
      "execution_count": 12,
      "outputs": [
        {
          "output_type": "display_data",
          "data": {
            "image/png": "[encoded data removed]",
            "text/plain": [
              "<Figure size 1200x800 with 1 Axes>"
            ]
          },
          "metadata": {
            "tags": [],
            "needs_background": "light"
          }
        }
      ]
    },
    {
      "cell_type": "markdown",
      "metadata": {
        "id": "mY8BW2Pz-7OW",
        "colab_type": "text"
      },
      "source": [
        " Elbow Method"
      ]
    },
    {
      "cell_type": "code",
      "metadata": {
        "id": "W2fp76hm0SBe",
        "colab_type": "code",
        "colab": {}
      },
      "source": [
        "numberOfK , distortions = [],[]\n",
        "\n",
        "for entity in range(2,16):\n",
        "  k = entity\n",
        "\n",
        "  df1 = dfclust['neighbourhood']\n",
        "  df2 = dfclust['number_of_reviews']\n",
        "\n",
        "  newX , newY = [],[]\n",
        "\n",
        "  for i in range(k):\n",
        "    newX.append(df1.sample().values)\n",
        "    newY.append(df2.sample().values)\n",
        "  \n",
        "  df3 = pd.Series(newX)\n",
        "  df4 = pd.Series(newY)\n",
        "\n",
        "  newCentroidX = newX\n",
        "  newCentroidY = newY\n",
        "\n",
        "  same = False\n",
        "  while ( not same ):\n",
        "    zonex,zoney = [],[]\n",
        "    for i in range(k):\n",
        "      zonex.append([])\n",
        "      zoney.append([])\n",
        "\n",
        "    x1 = newCentroidX\n",
        "    y1 = newCentroidY\n",
        "\n",
        "    for i in range(len(df1)):\n",
        "      dist = []\n",
        "      for j in range(k):\n",
        "        dist.append(math.sqrt(((x1[j] - df1.iloc[i])**2) + ((y1[j] - df2.iloc[i])**2)))\n",
        "\n",
        "      for j in range(len(dist)):\n",
        "        if dist[j] == min(dist):\n",
        "          zonex[j].append(df1.iloc[i])\n",
        "          zoney[j].append(df2.iloc[i])\n",
        "          break\n",
        "\n",
        "    newCentroidX,newCentroidY = [],[]\n",
        "\n",
        "    #new centroid\n",
        "    for i in range(k):\n",
        "      newCentroidX.append(sum(zonex[i])/len(zonex[i]))\n",
        "      newCentroidY.append(sum(zoney[i])/len(zonex[i]))\n",
        "\n",
        "    df3 = pd.Series(newCentroidX)\n",
        "    df4 = pd.Series(newCentroidY)\n",
        "\n",
        "    for i in range(k):\n",
        "      if newCentroidX[i] == x1[i] and newCentroidY[i] == y1[i]:\n",
        "        same = True\n",
        "\n",
        "  centers = np.array(list(zip(df3, df4))).reshape(len(df3), 2)\n",
        "  distortions.append(sum(np.min(distance.cdist(dfclust, centers, 'euclidean'), axis=1)) / centers.shape[0])\n",
        "  numberOfK.append(k)\n"
      ],
      "execution_count": 0,
      "outputs": []
    },
    {
      "cell_type": "code",
      "metadata": {
        "id": "LVJIY1t2DNex",
        "colab_type": "code",
        "colab": {}
      },
      "source": [
        "plt.figure(dpi=150)\n",
        "plt.plot(numberOfK,distortions, 'bo--')\n",
        "plt.xlabel('Number Of K')\n",
        "plt.ylabel('Distortions')\n",
        "plt.show()"
      ],
      "execution_count": 0,
      "outputs": []
    },
    {
      "cell_type": "markdown",
      "metadata": {
        "id": "4ZVqSGY-lMxB",
        "colab_type": "text"
      },
      "source": [
        "Cluster with centroid randomly pick array sample"
      ]
    },
    {
      "cell_type": "code",
      "metadata": {
        "id": "zCXNXLnW-agJ",
        "colab_type": "code",
        "colab": {}
      },
      "source": [
        "k = 3\n",
        "\n",
        "print('K Value is ', k)\n",
        "\n",
        "df1 = dfclust['neighbourhood']\n",
        "df2 = dfclust['number_of_reviews']\n",
        "\n",
        "newX , newY = [],[]\n",
        "\n",
        "for i in range(k):\n",
        "  newX.append(df1.sample().values)\n",
        "  newY.append(df2.sample().values)\n",
        "\n",
        "df3 = pd.Series(newX)\n",
        "df4 = pd.Series(newY)\n",
        "\n",
        "plt.figure(dpi=150)\n",
        "plt.scatter(df1,df2,c='b',marker='x',label='location',s=5)\n",
        "plt.scatter(df3,df4,c='r',marker='s',label='Centroid',s=5)\n",
        "plt.xlabel('neighbourhood')\n",
        "plt.ylabel('number_of_reviews')\n",
        "plt.legend()\n",
        "plt.show()\n",
        "\n",
        "newCentroidX = newX\n",
        "newCentroidY = newY\n",
        "\n",
        "same = False\n",
        "\n",
        "print(\"start looping\")\n",
        "while ( not same ):\n",
        "  zonex,zoney = [],[]\n",
        "  for i in range(k):\n",
        "    zonex.append([])\n",
        "    zoney.append([])\n",
        "\n",
        "  x1 = newCentroidX\n",
        "  y1 = newCentroidY\n",
        "\n",
        "  for i in range(len(df1)):\n",
        "    dist = []\n",
        "    for j in range(k):\n",
        "      dist.append(math.sqrt(((x1[j] - df1.iloc[i])**2) + ((y1[j] - df2.iloc[i])**2)))\n",
        "\n",
        "    for j in range(len(dist)):\n",
        "      if dist[j] == min(dist):\n",
        "        #dfclust['class'].iloc[i] = j+1\n",
        "        zonex[j].append(df1.iloc[i])\n",
        "        zoney[j].append(df2.iloc[i])\n",
        "        break\n",
        "\n",
        "  newCentroidX,newCentroidY = [],[]\n",
        "\n",
        "  #new centroid\n",
        "  for i in range(k):\n",
        "    newCentroidX.append(sum(zonex[i])/len(zonex[i]))\n",
        "    newCentroidY.append(sum(zoney[i])/len(zonex[i]))\n",
        "\n",
        "  df3 = pd.Series(newCentroidX)\n",
        "  df4 = pd.Series(newCentroidY)\n",
        "\n",
        "  for i in range(k):\n",
        "    if newCentroidX[i] == x1[i] and newCentroidY[i] == y1[i]:\n",
        "      same = True\n",
        "\n",
        "plt.figure(dpi=150)\n",
        "for i in range(k):\n",
        "  plt.scatter(zonex[i],zoney[i],marker='x',label='cluster '+str(i),s=5)\n",
        "plt.scatter(df3,df4,c='black',label='Centroid',s=10)\n",
        "plt.xlabel('neighbourhood')\n",
        "plt.ylabel('number_of_reviews')\n",
        "plt.legend(fontsize='small')\n",
        "plt.show()\n",
        "\n",
        "print(\"end looping\")"
      ],
      "execution_count": 0,
      "outputs": []
    },
    {
      "cell_type": "markdown",
      "metadata": {
        "id": "ryVSOHDQlZdr",
        "colab_type": "text"
      },
      "source": [
        "Cluster with centroid use random number in between min and max value of each array"
      ]
    },
    {
      "cell_type": "code",
      "metadata": {
        "id": "4VhTjqAGlnXl",
        "colab_type": "code",
        "colab": {}
      },
      "source": [
        "k = 3\n",
        "\n",
        "print('K Value is ', k)\n",
        "\n",
        "df1 = dfclust['neighbourhood']\n",
        "df2 = dfclust['number_of_reviews']\n",
        "\n",
        "newX , newY = [],[]\n",
        "\n",
        "for i in range(k):\n",
        "  newX.append(random.uniform(min(df1),max(df1)))\n",
        "  newY.append(random.uniform(min(df2),max(df2)))\n",
        "\n",
        "df3 = pd.Series(newX)\n",
        "df4 = pd.Series(newY)\n",
        "\n",
        "plt.figure(dpi=150)\n",
        "plt.scatter(df1,df2,c='b',marker='x',label='location',s=5)\n",
        "plt.scatter(df3,df4,c='r',marker='s',label='Centroid',s=5)\n",
        "plt.xlabel('neighbourhood')\n",
        "plt.ylabel('number_of_reviews')\n",
        "plt.legend()\n",
        "plt.show()\n",
        "\n",
        "newCentroidX = newX\n",
        "newCentroidY = newY\n",
        "\n",
        "same = False\n",
        "\n",
        "print(\"start looping\")\n",
        "while ( not same ):\n",
        "  zonex,zoney = [],[]\n",
        "  for i in range(k):\n",
        "    zonex.append([])\n",
        "    zoney.append([])\n",
        "\n",
        "  x1 = newCentroidX\n",
        "  y1 = newCentroidY\n",
        "\n",
        "  for i in range(len(df1)):\n",
        "    dist = []\n",
        "    for j in range(k):\n",
        "      dist.append(math.sqrt(((x1[j] - df1.iloc[i])**2) + ((y1[j] - df2.iloc[i])**2)))\n",
        "\n",
        "    for j in range(len(dist)):\n",
        "      if dist[j] == min(dist):\n",
        "        #dfclust['class'].iloc[i] = j+1\n",
        "        zonex[j].append(df1.iloc[i])\n",
        "        zoney[j].append(df2.iloc[i])\n",
        "        break\n",
        "\n",
        "  newCentroidX,newCentroidY = [],[]\n",
        "\n",
        "  #new centroid\n",
        "  for i in range(k):\n",
        "    newCentroidX.append(sum(zonex[i])/len(zonex[i]))\n",
        "    newCentroidY.append(sum(zoney[i])/len(zonex[i]))\n",
        "    \n",
        "  df3 = pd.Series(newCentroidX)\n",
        "  df4 = pd.Series(newCentroidY)\n",
        "\n",
        "  for i in range(k):\n",
        "    if newCentroidX[i] == x1[i] and newCentroidY[i] == y1[i]:\n",
        "      same = True\n",
        "\n",
        "plt.figure(dpi=150)\n",
        "for i in range(k):\n",
        "  plt.scatter(zonex[i],zoney[i],marker='x',label='cluster '+str(i),s=5)\n",
        "plt.scatter(df3,df4,c='black',label='Centroid',s=10)\n",
        "plt.xlabel('neighbourhood')\n",
        "plt.ylabel('number_of_reviews')\n",
        "plt.legend(fontsize='small')\n",
        "plt.show()\n",
        "\n",
        "print(\"end looping\")"
      ],
      "execution_count": 0,
      "outputs": []
    },
    {
      "cell_type": "markdown",
      "metadata": {
        "id": "jQmjA-mw9iYH",
        "colab_type": "text"
      },
      "source": [
        "# Classification"
      ]
    },
    {
      "cell_type": "markdown",
      "metadata": {
        "id": "tJCpL5vZ9oFn",
        "colab_type": "text"
      },
      "source": [
        "Import library"
      ]
    },
    {
      "cell_type": "code",
      "metadata": {
        "id": "gMysd-MM9lai",
        "colab_type": "code",
        "colab": {}
      },
      "source": [
        "%matplotlib inline\n",
        "\n",
        "from sklearn import preprocessing, linear_model\n",
        "from sklearn.model_selection import train_test_split, GridSearchCV\n",
        "import sklearn.metrics as metrics\n",
        "from sklearn.metrics import confusion_matrix,accuracy_score,classification_report\n",
        "from sklearn.neighbors import KNeighborsClassifier\n",
        "from sklearn.svm import SVC\n",
        "from tensorflow.keras import layers\n",
        "from keras.layers import Dense\n",
        "from keras.models import Sequential\n",
        "from keras.utils import to_categorical\n",
        "from keras.optimizers import Adam\n",
        "from sklearn.preprocessing import StandardScaler \n",
        "from matplotlib.colors import ListedColormap"
      ],
      "execution_count": 0,
      "outputs": []
    },
    {
      "cell_type": "code",
      "metadata": {
        "id": "XAoixA6d9xQ8",
        "colab_type": "code",
        "colab": {}
      },
      "source": [
        "df = pd.read_csv(io.BytesIO(uploaded['air_bnb.csv']))\n",
        "df.shape"
      ],
      "execution_count": 0,
      "outputs": []
    },
    {
      "cell_type": "code",
      "metadata": {
        "id": "3GL0Fpjl9zIu",
        "colab_type": "code",
        "colab": {}
      },
      "source": [
        "df2 = df[['neighbourhood','price','room_type']]\n",
        "df2"
      ],
      "execution_count": 0,
      "outputs": []
    },
    {
      "cell_type": "code",
      "metadata": {
        "id": "DwLW-gTZ91PN",
        "colab_type": "code",
        "colab": {}
      },
      "source": [
        "def delduplicate(a):\n",
        "  b = a\n",
        "  return list(Counter(b))\n",
        "\n",
        "key = []\n",
        "\n",
        "for i in df2.columns:\n",
        "  key.append(delduplicate(df2[i]))\n",
        "\n",
        "for i in range(len(df2.columns)):\n",
        "  if df2[df2.columns[i]].dtypes != 'int64' and df2[df2.columns[i]].dtypes != 'float64':\n",
        "    for j in range(len(df2)):\n",
        "      k = key[i]\n",
        "      for l in range(len(k)):\n",
        "        if df2[df2.columns[i]].iloc[j] == k[l]:\n",
        "          df2[df2.columns[i]].iloc[j] = l+1\n",
        "          break\n",
        "\n",
        "df2"
      ],
      "execution_count": 0,
      "outputs": []
    },
    {
      "cell_type": "code",
      "metadata": {
        "id": "SJsch70A93nf",
        "colab_type": "code",
        "colab": {}
      },
      "source": [
        "for i in df2.columns:\n",
        "  median = df2[i].median()\n",
        "  df2[i].fillna(median, inplace=True)\n",
        "\n",
        "df2"
      ],
      "execution_count": 0,
      "outputs": []
    },
    {
      "cell_type": "code",
      "metadata": {
        "id": "pYVXeE9j-Jhb",
        "colab_type": "code",
        "colab": {}
      },
      "source": [
        "clean_data = df2.to_numpy()"
      ],
      "execution_count": 0,
      "outputs": []
    },
    {
      "cell_type": "code",
      "metadata": {
        "id": "r_E0v1hR-LP9",
        "colab_type": "code",
        "colab": {}
      },
      "source": [
        "train, test = train_test_split(clean_data, test_size=0.2)\n",
        "print(len(train), 'train examples')\n",
        "print(len(test), 'test examples')"
      ],
      "execution_count": 0,
      "outputs": []
    },
    {
      "cell_type": "code",
      "metadata": {
        "id": "IBSP3e6n-NgG",
        "colab_type": "code",
        "colab": {}
      },
      "source": [
        "train_data = np.copy(train)\n",
        "test_data = np.copy(test)\n",
        "y_train = train[:,-1]\n",
        "X_train = train_data[:,:-1]\n",
        "y_test = test[:,-1]\n",
        "x_test = test_data[:,:-1]\n",
        "y_train = y_train.astype(int)\n",
        "y_test = y_test.astype(int)"
      ],
      "execution_count": 0,
      "outputs": []
    },
    {
      "cell_type": "code",
      "metadata": {
        "id": "MNnZWXHQ-Phm",
        "colab_type": "code",
        "colab": {}
      },
      "source": [
        "st_x= StandardScaler()    \n",
        "X_train= st_x.fit_transform(X_train)    \n",
        "x_test= st_x.transform(x_test)"
      ],
      "execution_count": 0,
      "outputs": []
    },
    {
      "cell_type": "markdown",
      "metadata": {
        "id": "aCfHYKMD-Sxp",
        "colab_type": "text"
      },
      "source": [
        "KNN Classifier"
      ]
    },
    {
      "cell_type": "code",
      "metadata": {
        "id": "EUdrSLlL-YBM",
        "colab_type": "code",
        "colab": {}
      },
      "source": [
        "classifier= KNeighborsClassifier(n_neighbors=5, metric='minkowski', p=2 )  \n",
        "classifier.fit(X_train, y_train)"
      ],
      "execution_count": 0,
      "outputs": []
    },
    {
      "cell_type": "code",
      "metadata": {
        "id": "89Qadg4D-YD1",
        "colab_type": "code",
        "colab": {}
      },
      "source": [
        "y_pred = classifier.predict(x_test)\n",
        "print(y_pred)"
      ],
      "execution_count": 0,
      "outputs": []
    },
    {
      "cell_type": "code",
      "metadata": {
        "id": "Uox99pZf-YG1",
        "colab_type": "code",
        "colab": {}
      },
      "source": [
        "cm = confusion_matrix(y_test, y_pred)\n",
        "print(cm)\n",
        "print(\" Accuracy: \",accuracy_score(y_test, y_pred))\n",
        "print(\" F1 score: \",metrics.f1_score(y_test, y_pred,average='weighted'))"
      ],
      "execution_count": 0,
      "outputs": []
    },
    {
      "cell_type": "code",
      "metadata": {
        "id": "I5gJtC1SiJ9c",
        "colab_type": "code",
        "colab": {}
      },
      "source": [
        "print(confusion_matrix(y_test,y_pred))\n",
        "print(classification_report(y_test,y_pred))"
      ],
      "execution_count": 0,
      "outputs": []
    },
    {
      "cell_type": "code",
      "metadata": {
        "id": "8TyRFV2m-YMR",
        "colab_type": "code",
        "colab": {}
      },
      "source": [
        "#Visulaizing the training set result  \n",
        "plt.figure(dpi=150)\n",
        "x_set, y_set = X_train, y_train  \n",
        "x1, x2 = np.meshgrid(np.arange(start = x_set[:, 0].min() - 1, stop = x_set[:, 0].max() + 1, step  =0.01),  \n",
        "np.arange(start = x_set[:, 1].min() - 1, stop = x_set[:, 1].max() + 1, step = 0.01))  \n",
        "plt.contourf(x1, x2, classifier.predict(np.array([x1.ravel(), x2.ravel()]).T).reshape(x1.shape),  \n",
        "alpha = 0.5, cmap = ListedColormap(('red','green','blue' )))\n",
        "plt.xlim(x1.min(), x1.max())  \n",
        "plt.ylim(x2.min(), x2.max())  \n",
        "for i, j in enumerate(np.unique(y_set)):  \n",
        "    plt.scatter(x_set[y_set == j, 0], x_set[y_set == j, 1],  \n",
        "        c = ListedColormap(('red', 'green','blue'))(i), label = j)  \n",
        "plt.title('K-NN Algorithm (Training set)')  \n",
        "plt.xlabel('neighbourhood')  \n",
        "plt.ylabel('price')  \n",
        "plt.legend()  \n",
        "plt.show()  "
      ],
      "execution_count": 0,
      "outputs": []
    },
    {
      "cell_type": "markdown",
      "metadata": {
        "id": "G-yYdQxQD9cT",
        "colab_type": "text"
      },
      "source": [
        "SVM Classifier"
      ]
    },
    {
      "cell_type": "code",
      "metadata": {
        "id": "xtdGaegxETo3",
        "colab_type": "code",
        "colab": {}
      },
      "source": [
        "train_data = np.copy(train)\n",
        "test_data = np.copy(test)\n",
        "y_train = train[:,-1]\n",
        "X_train = train_data[:,:-1]\n",
        "y_test = test[:,-1]\n",
        "x_test = test_data[:,:-1]\n",
        "y_train = y_train.astype(int)\n",
        "y_test = y_test.astype(int)"
      ],
      "execution_count": 0,
      "outputs": []
    },
    {
      "cell_type": "markdown",
      "metadata": {
        "id": "vGlnu9tcir_8",
        "colab_type": "text"
      },
      "source": [
        "Linier Kernel"
      ]
    },
    {
      "cell_type": "code",
      "metadata": {
        "id": "Acj34R-LETk2",
        "colab_type": "code",
        "colab": {}
      },
      "source": [
        "svclassifier = SVC(kernel='linear')\n",
        "svclassifier.fit(X_train, y_train)\n",
        "y_pred = svclassifier.predict(x_test)\n",
        "print(confusion_matrix(y_test,y_pred))\n",
        "print(classification_report(y_test,y_pred))"
      ],
      "execution_count": 0,
      "outputs": []
    },
    {
      "cell_type": "markdown",
      "metadata": {
        "id": "6p41k59NizCa",
        "colab_type": "text"
      },
      "source": [
        "Polynomial Kernel"
      ]
    },
    {
      "cell_type": "code",
      "metadata": {
        "id": "G7maoITsEThU",
        "colab_type": "code",
        "colab": {}
      },
      "source": [
        "svclassifier = SVC(kernel='poly', degree=8)\n",
        "svclassifier.fit(X_train, y_train)\n",
        "y_pred = svclassifier.predict(x_test)\n",
        "print(confusion_matrix(y_test,y_pred))\n",
        "print(classification_report(y_test,y_pred))"
      ],
      "execution_count": 0,
      "outputs": []
    },
    {
      "cell_type": "markdown",
      "metadata": {
        "id": "6zNoCvqFi70C",
        "colab_type": "text"
      },
      "source": [
        "Gaussian Kernel"
      ]
    },
    {
      "cell_type": "code",
      "metadata": {
        "id": "xBfwBikYEdND",
        "colab_type": "code",
        "colab": {}
      },
      "source": [
        "svclassifier = SVC(kernel='rbf')\n",
        "svclassifier.fit(X_train, y_train)\n",
        "y_pred = svclassifier.predict(x_test)\n",
        "print(confusion_matrix(y_test,y_pred))\n",
        "print(classification_report(y_test,y_pred))"
      ],
      "execution_count": 0,
      "outputs": []
    },
    {
      "cell_type": "markdown",
      "metadata": {
        "id": "bEI0Klj-jCSB",
        "colab_type": "text"
      },
      "source": [
        "Sigmoid Kernel"
      ]
    },
    {
      "cell_type": "code",
      "metadata": {
        "id": "exQDBwv9jD3J",
        "colab_type": "code",
        "colab": {}
      },
      "source": [
        "svclassifier = SVC(kernel='sigmoid')\n",
        "svclassifier.fit(X_train, y_train)\n",
        "y_pred = svclassifier.predict(x_test)\n",
        "print(confusion_matrix(y_test,y_pred))\n",
        "print(classification_report(y_test,y_pred))"
      ],
      "execution_count": 0,
      "outputs": []
    }
  ]
}